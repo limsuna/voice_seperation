{
  "cells": [
    {
      "cell_type": "code",
      "metadata": {},
      "source": [
        "import torch\n",
        "import torch.nn as nn\n",
        "import torch.nn.functional as F\n",
        "from torch.autograd import Function\n",
        "import model.resnet as resnet\n",
        "\n",
        "\n",
        "class background_resnet(nn.Module):\n",
        "    def __init__(self, embedding_size, num_classes, backbone='resnet18'):\n",
        "        super(background_resnet, self).__init__()\n",
        "        self.backbone = backbone\n",
        "        # copying modules from pretrained models\n",
        "        if backbone == 'resnet50':\n",
        "            self.pretrained = resnet.resnet50(pretrained=False)\n",
        "        elif backbone == 'resnet101':\n",
        "            self.pretrained = resnet.resnet101(pretrained=False)\n",
        "        elif backbone == 'resnet152':\n",
        "            self.pretrained = resnet.resnet152(pretrained=False)\n",
        "        elif backbone == 'resnet18':\n",
        "            self.pretrained = resnet.resnet18(pretrained=False)\n",
        "        elif backbone == 'resnet34':\n",
        "            self.pretrained = resnet.resnet34(pretrained=False)\n",
        "        else:\n",
        "            raise RuntimeError('unknown backbone: {}'.format(backbone))\n",
        "            \n",
        "        self.fc0 = nn.Linear(128, embedding_size)\n",
        "        self.bn0 = nn.BatchNorm1d(embedding_size)\n",
        "        self.relu = nn.ReLU()\n",
        "        self.last = nn.Linear(embedding_size, num_classes)\n",
        "\n",
        "    def forward(self, x):\n",
        "        # input x: minibatch x 1 x 40 x 40\n",
        "        x = self.pretrained.conv1(x)\n",
        "        x = self.pretrained.bn1(x)\n",
        "        x = self.pretrained.relu(x)\n",
        "        \n",
        "        x = self.pretrained.layer1(x)\n",
        "        x = self.pretrained.layer2(x)\n",
        "        x = self.pretrained.layer3(x)\n",
        "        x = self.pretrained.layer4(x)\n",
        "        \n",
        "        out = F.adaptive_avg_pool2d(x,1) # [batch, 128, 1, 1]\n",
        "        out = torch.squeeze(out) # [batch, n_embed]\n",
        "        # flatten the out so that the fully connected layer can be connected from here\n",
        "        out = out.view(x.size(0), -1) # (n_batch, n_embed)\n",
        "        spk_embedding = self.fc0(out)\n",
        "        out = F.relu(self.bn0(spk_embedding)) # [batch, n_embed]\n",
        "        out = self.last(out)\n",
        "        \n",
        "        return spk_embedding, out"
      ],
      "outputs": [],
      "execution_count": null
    }
  ],
  "metadata": {
    "anaconda-cloud": {},
    "kernelspec": {
      "display_name": "Python 3",
      "language": "python",
      "name": "python3"
    },
    "language_info": {
      "codemirror_mode": {
        "name": "ipython",
        "version": 3
      },
      "file_extension": ".py",
      "mimetype": "text/x-python",
      "name": "python",
      "nbconvert_exporter": "python",
      "pygments_lexer": "ipython3",
      "version": "3.6.1"
    }
  },
  "nbformat": 4,
  "nbformat_minor": 1
}